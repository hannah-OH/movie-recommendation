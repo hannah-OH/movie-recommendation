{
 "cells": [
  {
   "cell_type": "markdown",
   "id": "79cae075",
   "metadata": {},
   "source": [
    "# 추천 모델 구현"
   ]
  },
  {
   "cell_type": "markdown",
   "id": "88d07efe",
   "metadata": {},
   "source": [
    "### 주제 : 주어진 DeepFM 라이브러리를 이용하여 영화 추천 모델 만들기\n",
    "* userId가 title인 영화를 볼 확률을 구하는 모델을 만드세요.\n",
    "* 해당 과제의 경우 모델 훈련 뿐만 아닌, train_test_split으로 분기한 test 데이터의 pred_y 값을 [userId, title, pred] 세개의 열을 보유한 csv 파일로 저장하는 것까지 해주세요."
   ]
  },
  {
   "cell_type": "code",
   "execution_count": 1,
   "id": "6ad2dacf",
   "metadata": {},
   "outputs": [],
   "source": [
    "import pandas as pd\n",
    "import seaborn as sns\n",
    "\n",
    "from sklearn.preprocessing import StandardScaler, MinMaxScaler, LabelEncoder\n",
    "from deepctr.models import DeepFM\n",
    "\n",
    "import warnings\n",
    "warnings.filterwarnings(action=\"ignore\")"
   ]
  },
  {
   "cell_type": "code",
   "execution_count": 18,
   "id": "abea3dcb",
   "metadata": {},
   "outputs": [],
   "source": [
    "from deepctr.models import DeepFM\n",
    "from sklearn.metrics import r2_score\n",
    "\n",
    "class DeepFMModel:\n",
    "    def __init__(self,feature_columns,task='regression'):\n",
    "        self.feature_columns = feature_columns\n",
    "        self.task = task\n",
    "        self.optimizer = optimizer\n",
    "        self.loss = loss\n",
    "        self.metrics_list = metrics_list\n",
    "        self.epochs = epochs\n",
    "        self.model = None\n",
    "\n",
    "\n",
    "    def _build(self,feature_columns, task, optimizer='adam', loss='mae', metrics_list=['mae']):\n",
    "        model = DeepFM(*feature_columns, task=task)\n",
    "        model.compile(optimizer, loss, metrics=[metrics_list])\n",
    "\n",
    "        return model\n",
    "    \n",
    "    def train(self,input,target,epochs):\n",
    "        self.model = self._build(self.feature_columns, self.task)\n",
    "        hist = self.model.fit(input,target,epochs)\n",
    "\n",
    "        self._save(self.model, )\n",
    "\n",
    "        print(\"============================================================\")\n",
    "        \n",
    "\n",
    "        return hist\n",
    "\n",
    "    def predict(self,input_df):\n",
    "        return self.model.predict(input_df)\n",
    "\n",
    "    def evaluate(train_input,train_target):\n",
    "        predict = self.predict(train_input)\n",
    "        print(\"R2 Score: \", round(r2_score(predict, train_target),4))\n",
    "\n",
    "    def _save(self, path):\n",
    "        self.model.save(path)\n",
    "        "
   ]
  },
  {
   "cell_type": "code",
   "execution_count": 2,
   "id": "b28547d8",
   "metadata": {},
   "outputs": [],
   "source": [
    "# 데이터 불러오기\n",
    "\n",
    "movie = pd.read_csv('./data/movielens.csv')"
   ]
  },
  {
   "cell_type": "code",
   "execution_count": 3,
   "id": "1f02db33",
   "metadata": {},
   "outputs": [
    {
     "data": {
      "text/html": [
       "<div>\n",
       "<style scoped>\n",
       "    .dataframe tbody tr th:only-of-type {\n",
       "        vertical-align: middle;\n",
       "    }\n",
       "\n",
       "    .dataframe tbody tr th {\n",
       "        vertical-align: top;\n",
       "    }\n",
       "\n",
       "    .dataframe thead th {\n",
       "        text-align: right;\n",
       "    }\n",
       "</style>\n",
       "<table border=\"1\" class=\"dataframe\">\n",
       "  <thead>\n",
       "    <tr style=\"text-align: right;\">\n",
       "      <th></th>\n",
       "      <th>userId</th>\n",
       "      <th>title</th>\n",
       "      <th>genres</th>\n",
       "      <th>tag</th>\n",
       "      <th>rating</th>\n",
       "      <th>target</th>\n",
       "    </tr>\n",
       "  </thead>\n",
       "  <tbody>\n",
       "    <tr>\n",
       "      <th>0</th>\n",
       "      <td>1</td>\n",
       "      <td>Toy Story (1995)</td>\n",
       "      <td>Adventure</td>\n",
       "      <td>toys</td>\n",
       "      <td>3.92</td>\n",
       "      <td>0</td>\n",
       "    </tr>\n",
       "    <tr>\n",
       "      <th>1</th>\n",
       "      <td>2</td>\n",
       "      <td>Toy Story (1995)</td>\n",
       "      <td>Adventure</td>\n",
       "      <td>toys</td>\n",
       "      <td>3.92</td>\n",
       "      <td>0</td>\n",
       "    </tr>\n",
       "    <tr>\n",
       "      <th>2</th>\n",
       "      <td>3</td>\n",
       "      <td>Toy Story (1995)</td>\n",
       "      <td>Adventure</td>\n",
       "      <td>toys</td>\n",
       "      <td>3.92</td>\n",
       "      <td>1</td>\n",
       "    </tr>\n",
       "    <tr>\n",
       "      <th>3</th>\n",
       "      <td>4</td>\n",
       "      <td>Toy Story (1995)</td>\n",
       "      <td>Adventure</td>\n",
       "      <td>toys</td>\n",
       "      <td>3.92</td>\n",
       "      <td>0</td>\n",
       "    </tr>\n",
       "    <tr>\n",
       "      <th>4</th>\n",
       "      <td>5</td>\n",
       "      <td>Toy Story (1995)</td>\n",
       "      <td>Adventure</td>\n",
       "      <td>toys</td>\n",
       "      <td>3.92</td>\n",
       "      <td>0</td>\n",
       "    </tr>\n",
       "  </tbody>\n",
       "</table>\n",
       "</div>"
      ],
      "text/plain": [
       "   userId             title     genres   tag  rating  target\n",
       "0       1  Toy Story (1995)  Adventure  toys    3.92       0\n",
       "1       2  Toy Story (1995)  Adventure  toys    3.92       0\n",
       "2       3  Toy Story (1995)  Adventure  toys    3.92       1\n",
       "3       4  Toy Story (1995)  Adventure  toys    3.92       0\n",
       "4       5  Toy Story (1995)  Adventure  toys    3.92       0"
      ]
     },
     "execution_count": 3,
     "metadata": {},
     "output_type": "execute_result"
    }
   ],
   "source": [
    "movie.head()"
   ]
  },
  {
   "cell_type": "code",
   "execution_count": 4,
   "id": "f3951705",
   "metadata": {},
   "outputs": [
    {
     "name": "stdout",
     "output_type": "stream",
     "text": [
      "<class 'pandas.core.frame.DataFrame'>\n",
      "RangeIndex: 100000 entries, 0 to 99999\n",
      "Data columns (total 6 columns):\n",
      " #   Column  Non-Null Count   Dtype  \n",
      "---  ------  --------------   -----  \n",
      " 0   userId  100000 non-null  int64  \n",
      " 1   title   100000 non-null  object \n",
      " 2   genres  100000 non-null  object \n",
      " 3   tag     100000 non-null  object \n",
      " 4   rating  100000 non-null  float64\n",
      " 5   target  100000 non-null  int64  \n",
      "dtypes: float64(1), int64(2), object(3)\n",
      "memory usage: 4.6+ MB\n"
     ]
    }
   ],
   "source": [
    "movie.info()"
   ]
  },
  {
   "cell_type": "code",
   "execution_count": 5,
   "id": "b0a45f35",
   "metadata": {},
   "outputs": [
    {
     "data": {
      "text/html": [
       "<div>\n",
       "<style scoped>\n",
       "    .dataframe tbody tr th:only-of-type {\n",
       "        vertical-align: middle;\n",
       "    }\n",
       "\n",
       "    .dataframe tbody tr th {\n",
       "        vertical-align: top;\n",
       "    }\n",
       "\n",
       "    .dataframe thead th {\n",
       "        text-align: right;\n",
       "    }\n",
       "</style>\n",
       "<table border=\"1\" class=\"dataframe\">\n",
       "  <thead>\n",
       "    <tr style=\"text-align: right;\">\n",
       "      <th></th>\n",
       "      <th>null_count</th>\n",
       "      <th>null_ratio</th>\n",
       "    </tr>\n",
       "  </thead>\n",
       "  <tbody>\n",
       "    <tr>\n",
       "      <th>userId</th>\n",
       "      <td>0</td>\n",
       "      <td>0.0</td>\n",
       "    </tr>\n",
       "    <tr>\n",
       "      <th>title</th>\n",
       "      <td>0</td>\n",
       "      <td>0.0</td>\n",
       "    </tr>\n",
       "    <tr>\n",
       "      <th>genres</th>\n",
       "      <td>0</td>\n",
       "      <td>0.0</td>\n",
       "    </tr>\n",
       "    <tr>\n",
       "      <th>tag</th>\n",
       "      <td>0</td>\n",
       "      <td>0.0</td>\n",
       "    </tr>\n",
       "    <tr>\n",
       "      <th>rating</th>\n",
       "      <td>0</td>\n",
       "      <td>0.0</td>\n",
       "    </tr>\n",
       "    <tr>\n",
       "      <th>target</th>\n",
       "      <td>0</td>\n",
       "      <td>0.0</td>\n",
       "    </tr>\n",
       "  </tbody>\n",
       "</table>\n",
       "</div>"
      ],
      "text/plain": [
       "        null_count  null_ratio\n",
       "userId           0         0.0\n",
       "title            0         0.0\n",
       "genres           0         0.0\n",
       "tag              0         0.0\n",
       "rating           0         0.0\n",
       "target           0         0.0"
      ]
     },
     "execution_count": 5,
     "metadata": {},
     "output_type": "execute_result"
    }
   ],
   "source": [
    "# 결측값 확인 \n",
    "# 결측값이 없음을 확인함 \n",
    "\n",
    "null_cnt_df = pd.DataFrame(movie.isnull().sum()).rename(columns={0: 'null_count'})\n",
    "null_cnt_df['null_ratio'] = round(null_cnt_df['null_count']/len(movie) *100, 2)\n",
    "null_cnt_df.sort_values('null_count')"
   ]
  },
  {
   "cell_type": "code",
   "execution_count": 6,
   "id": "7aa7bf22",
   "metadata": {},
   "outputs": [
    {
     "data": {
      "text/html": [
       "<div>\n",
       "<style scoped>\n",
       "    .dataframe tbody tr th:only-of-type {\n",
       "        vertical-align: middle;\n",
       "    }\n",
       "\n",
       "    .dataframe tbody tr th {\n",
       "        vertical-align: top;\n",
       "    }\n",
       "\n",
       "    .dataframe thead th {\n",
       "        text-align: right;\n",
       "    }\n",
       "</style>\n",
       "<table border=\"1\" class=\"dataframe\">\n",
       "  <thead>\n",
       "    <tr style=\"text-align: right;\">\n",
       "      <th></th>\n",
       "      <th>유일값 수</th>\n",
       "    </tr>\n",
       "  </thead>\n",
       "  <tbody>\n",
       "    <tr>\n",
       "      <th>userId</th>\n",
       "      <td>1000</td>\n",
       "    </tr>\n",
       "    <tr>\n",
       "      <th>title</th>\n",
       "      <td>100</td>\n",
       "    </tr>\n",
       "    <tr>\n",
       "      <th>genres</th>\n",
       "      <td>10</td>\n",
       "    </tr>\n",
       "    <tr>\n",
       "      <th>tag</th>\n",
       "      <td>71</td>\n",
       "    </tr>\n",
       "    <tr>\n",
       "      <th>rating</th>\n",
       "      <td>68</td>\n",
       "    </tr>\n",
       "    <tr>\n",
       "      <th>target</th>\n",
       "      <td>2</td>\n",
       "    </tr>\n",
       "  </tbody>\n",
       "</table>\n",
       "</div>"
      ],
      "text/plain": [
       "        유일값 수\n",
       "userId   1000\n",
       "title     100\n",
       "genres     10\n",
       "tag        71\n",
       "rating     68\n",
       "target      2"
      ]
     },
     "execution_count": 6,
     "metadata": {},
     "output_type": "execute_result"
    }
   ],
   "source": [
    "pd.DataFrame(movie.nunique()).rename(columns={0: '유일값 수'})"
   ]
  },
  {
   "cell_type": "markdown",
   "id": "3c0fb980",
   "metadata": {},
   "source": [
    "##### 데이터 설명 \n",
    "\n",
    "* userId: 사용자ID (총 1000명)\n",
    "* title: 영화제목 (총 100개)\n",
    "* genres: 영화 장르 (총 10개)\n",
    "* tag: 영화 태그 (총 71개)\n",
    "* rating: 영화 평점\n",
    "* target: 영화를 봤는지 안봤는지 (0=안봄, 1=영화를 봄)"
   ]
  },
  {
   "cell_type": "code",
   "execution_count": 7,
   "id": "c5a71ebd",
   "metadata": {},
   "outputs": [],
   "source": [
    "# 정확한 영화제목을 따로 분리함\n",
    "# 영화 개봉연도에 따른 취향이 있기때문에 연도도 따로 분리함 "
   ]
  },
  {
   "cell_type": "code",
   "execution_count": 8,
   "id": "6b33b382",
   "metadata": {},
   "outputs": [],
   "source": [
    "movie['title_name'] = movie['title'].apply(lambda x: x.split('(1')[0])\n",
    "movie['title_year'] = movie['title'].apply(lambda x: x.split('(')[-1].replace(\")\", \"\")).astype(int)"
   ]
  },
  {
   "cell_type": "markdown",
   "id": "774d7f8b",
   "metadata": {},
   "source": [
    "### 시각화"
   ]
  },
  {
   "cell_type": "code",
   "execution_count": 9,
   "id": "b8bc80f5",
   "metadata": {},
   "outputs": [
    {
     "data": {
      "text/plain": [
       "<Axes: xlabel='rating', ylabel='Density'>"
      ]
     },
     "execution_count": 9,
     "metadata": {},
     "output_type": "execute_result"
    },
    {
     "data": {
      "image/png": "[encoded data removed]",
      "text/plain": [
       "<Figure size 640x480 with 1 Axes>"
      ]
     },
     "metadata": {},
     "output_type": "display_data"
    }
   ],
   "source": [
    "sns.distplot(movie['rating'])"
   ]
  },
  {
   "cell_type": "code",
   "execution_count": 10,
   "id": "e5511e60",
   "metadata": {},
   "outputs": [
    {
     "data": {
      "text/plain": [
       "<Axes: xlabel='title_year', ylabel='Density'>"
      ]
     },
     "execution_count": 10,
     "metadata": {},
     "output_type": "execute_result"
    },
    {
     "data": {
      "image/png": "[encoded data removed]",
      "text/plain": [
       "<Figure size 640x480 with 1 Axes>"
      ]
     },
     "metadata": {},
     "output_type": "display_data"
    }
   ],
   "source": [
    "sns.distplot(movie['title_year'])"
   ]
  },
  {
   "cell_type": "markdown",
   "id": "b114232f",
   "metadata": {},
   "source": [
    "* 시각화를 통해 최소최대값의 편차와 빈도가 어느정도인지 확인함. 그래서 편차가 작은 영화 평점은 MinMaxScaling을 진행하고, 영화개봉연도는 StandardScaling을 진행할 것이다.\n",
    "* 또한 이산형 변수들은 label Encoding을 할 것이다.\n",
    "    - genres, tag, title_name"
   ]
  },
  {
   "cell_type": "markdown",
   "id": "8d830428",
   "metadata": {},
   "source": [
    "### Scaling\n",
    "##### 연속형 변수 (MinMaxScaling)"
   ]
  },
  {
   "cell_type": "code",
   "execution_count": 11,
   "id": "97e04d24",
   "metadata": {},
   "outputs": [
    {
     "data": {
      "text/plain": [
       "0        0.66875\n",
       "1        0.66875\n",
       "2        0.66875\n",
       "3        0.66875\n",
       "4        0.66875\n",
       "          ...   \n",
       "99995    0.80625\n",
       "99996    0.80625\n",
       "99997    0.80625\n",
       "99998    0.80625\n",
       "99999    0.80625\n",
       "Name: rating, Length: 100000, dtype: float64"
      ]
     },
     "execution_count": 11,
     "metadata": {},
     "output_type": "execute_result"
    }
   ],
   "source": [
    "mm = MinMaxScaler()\n",
    "rating_data = movie['rating'].values.reshape(-1, 1)\n",
    "movie['rating'] = mm.fit_transform(rating_data)\n",
    "movie['rating']"
   ]
  },
  {
   "cell_type": "code",
   "execution_count": 12,
   "id": "8f29a036",
   "metadata": {},
   "outputs": [
    {
     "data": {
      "text/plain": [
       "0        0.418881\n",
       "1        0.418881\n",
       "2        0.418881\n",
       "3        0.418881\n",
       "4        0.418881\n",
       "           ...   \n",
       "99995    1.462820\n",
       "99996    1.462820\n",
       "99997    1.462820\n",
       "99998    1.462820\n",
       "99999    1.462820\n",
       "Name: title_year, Length: 100000, dtype: float64"
      ]
     },
     "execution_count": 12,
     "metadata": {},
     "output_type": "execute_result"
    }
   ],
   "source": [
    "ss = StandardScaler()\n",
    "age_data = movie['title_year'].values.reshape(-1, 1)\n",
    "movie['title_year'] = ss.fit_transform(age_data)\n",
    "movie['title_year']"
   ]
  },
  {
   "cell_type": "markdown",
   "id": "c5e7e024",
   "metadata": {},
   "source": [
    "##### 이산형 변수 (label Encoding)"
   ]
  },
  {
   "cell_type": "code",
   "execution_count": 13,
   "id": "931ffd60",
   "metadata": {},
   "outputs": [],
   "source": [
    "encoder = LabelEncoder()"
   ]
  },
  {
   "cell_type": "code",
   "execution_count": 14,
   "id": "eebb0bca",
   "metadata": {},
   "outputs": [],
   "source": [
    "genres = movie['genres'].values.reshape(-1, 1)\n",
    "encoder.fit(movie['genres'])\n",
    "movie['genres'] = encoder.transform(genres)"
   ]
  },
  {
   "cell_type": "code",
   "execution_count": 15,
   "id": "0dedd65d",
   "metadata": {},
   "outputs": [],
   "source": [
    "tag = movie['tag'].values.reshape(-1, 1)\n",
    "encoder.fit(movie['tag'])\n",
    "movie['tag'] = encoder.transform(tag)"
   ]
  },
  {
   "cell_type": "code",
   "execution_count": 16,
   "id": "f3d79b78",
   "metadata": {},
   "outputs": [],
   "source": [
    "title_name = movie['title_name'].values.reshape(-1, 1)\n",
    "encoder.fit(movie['title_name'])\n",
    "movie['title_name'] = encoder.transform(title_name)"
   ]
  },
  {
   "cell_type": "code",
   "execution_count": 17,
   "id": "c983946d",
   "metadata": {},
   "outputs": [
    {
     "data": {
      "text/html": [
       "<div>\n",
       "<style scoped>\n",
       "    .dataframe tbody tr th:only-of-type {\n",
       "        vertical-align: middle;\n",
       "    }\n",
       "\n",
       "    .dataframe tbody tr th {\n",
       "        vertical-align: top;\n",
       "    }\n",
       "\n",
       "    .dataframe thead th {\n",
       "        text-align: right;\n",
       "    }\n",
       "</style>\n",
       "<table border=\"1\" class=\"dataframe\">\n",
       "  <thead>\n",
       "    <tr style=\"text-align: right;\">\n",
       "      <th></th>\n",
       "      <th>userId</th>\n",
       "      <th>title</th>\n",
       "      <th>genres</th>\n",
       "      <th>tag</th>\n",
       "      <th>rating</th>\n",
       "      <th>target</th>\n",
       "      <th>title_name</th>\n",
       "      <th>title_year</th>\n",
       "    </tr>\n",
       "  </thead>\n",
       "  <tbody>\n",
       "    <tr>\n",
       "      <th>0</th>\n",
       "      <td>1</td>\n",
       "      <td>Toy Story (1995)</td>\n",
       "      <td>1</td>\n",
       "      <td>65</td>\n",
       "      <td>0.66875</td>\n",
       "      <td>0</td>\n",
       "      <td>92</td>\n",
       "      <td>0.418881</td>\n",
       "    </tr>\n",
       "    <tr>\n",
       "      <th>1</th>\n",
       "      <td>2</td>\n",
       "      <td>Toy Story (1995)</td>\n",
       "      <td>1</td>\n",
       "      <td>65</td>\n",
       "      <td>0.66875</td>\n",
       "      <td>0</td>\n",
       "      <td>92</td>\n",
       "      <td>0.418881</td>\n",
       "    </tr>\n",
       "    <tr>\n",
       "      <th>2</th>\n",
       "      <td>3</td>\n",
       "      <td>Toy Story (1995)</td>\n",
       "      <td>1</td>\n",
       "      <td>65</td>\n",
       "      <td>0.66875</td>\n",
       "      <td>1</td>\n",
       "      <td>92</td>\n",
       "      <td>0.418881</td>\n",
       "    </tr>\n",
       "    <tr>\n",
       "      <th>3</th>\n",
       "      <td>4</td>\n",
       "      <td>Toy Story (1995)</td>\n",
       "      <td>1</td>\n",
       "      <td>65</td>\n",
       "      <td>0.66875</td>\n",
       "      <td>0</td>\n",
       "      <td>92</td>\n",
       "      <td>0.418881</td>\n",
       "    </tr>\n",
       "    <tr>\n",
       "      <th>4</th>\n",
       "      <td>5</td>\n",
       "      <td>Toy Story (1995)</td>\n",
       "      <td>1</td>\n",
       "      <td>65</td>\n",
       "      <td>0.66875</td>\n",
       "      <td>0</td>\n",
       "      <td>92</td>\n",
       "      <td>0.418881</td>\n",
       "    </tr>\n",
       "    <tr>\n",
       "      <th>...</th>\n",
       "      <td>...</td>\n",
       "      <td>...</td>\n",
       "      <td>...</td>\n",
       "      <td>...</td>\n",
       "      <td>...</td>\n",
       "      <td>...</td>\n",
       "      <td>...</td>\n",
       "      <td>...</td>\n",
       "    </tr>\n",
       "    <tr>\n",
       "      <th>99995</th>\n",
       "      <td>996</td>\n",
       "      <td>Lord of the Rings: The Return of the King, The...</td>\n",
       "      <td>0</td>\n",
       "      <td>67</td>\n",
       "      <td>0.80625</td>\n",
       "      <td>0</td>\n",
       "      <td>50</td>\n",
       "      <td>1.462820</td>\n",
       "    </tr>\n",
       "    <tr>\n",
       "      <th>99996</th>\n",
       "      <td>997</td>\n",
       "      <td>Lord of the Rings: The Return of the King, The...</td>\n",
       "      <td>0</td>\n",
       "      <td>67</td>\n",
       "      <td>0.80625</td>\n",
       "      <td>1</td>\n",
       "      <td>50</td>\n",
       "      <td>1.462820</td>\n",
       "    </tr>\n",
       "    <tr>\n",
       "      <th>99997</th>\n",
       "      <td>998</td>\n",
       "      <td>Lord of the Rings: The Return of the King, The...</td>\n",
       "      <td>0</td>\n",
       "      <td>67</td>\n",
       "      <td>0.80625</td>\n",
       "      <td>0</td>\n",
       "      <td>50</td>\n",
       "      <td>1.462820</td>\n",
       "    </tr>\n",
       "    <tr>\n",
       "      <th>99998</th>\n",
       "      <td>999</td>\n",
       "      <td>Lord of the Rings: The Return of the King, The...</td>\n",
       "      <td>0</td>\n",
       "      <td>67</td>\n",
       "      <td>0.80625</td>\n",
       "      <td>0</td>\n",
       "      <td>50</td>\n",
       "      <td>1.462820</td>\n",
       "    </tr>\n",
       "    <tr>\n",
       "      <th>99999</th>\n",
       "      <td>1000</td>\n",
       "      <td>Lord of the Rings: The Return of the King, The...</td>\n",
       "      <td>0</td>\n",
       "      <td>67</td>\n",
       "      <td>0.80625</td>\n",
       "      <td>1</td>\n",
       "      <td>50</td>\n",
       "      <td>1.462820</td>\n",
       "    </tr>\n",
       "  </tbody>\n",
       "</table>\n",
       "<p>100000 rows × 8 columns</p>\n",
       "</div>"
      ],
      "text/plain": [
       "       userId                                              title  genres  tag  \\\n",
       "0           1                                   Toy Story (1995)       1   65   \n",
       "1           2                                   Toy Story (1995)       1   65   \n",
       "2           3                                   Toy Story (1995)       1   65   \n",
       "3           4                                   Toy Story (1995)       1   65   \n",
       "4           5                                   Toy Story (1995)       1   65   \n",
       "...       ...                                                ...     ...  ...   \n",
       "99995     996  Lord of the Rings: The Return of the King, The...       0   67   \n",
       "99996     997  Lord of the Rings: The Return of the King, The...       0   67   \n",
       "99997     998  Lord of the Rings: The Return of the King, The...       0   67   \n",
       "99998     999  Lord of the Rings: The Return of the King, The...       0   67   \n",
       "99999    1000  Lord of the Rings: The Return of the King, The...       0   67   \n",
       "\n",
       "        rating  target  title_name  title_year  \n",
       "0      0.66875       0          92    0.418881  \n",
       "1      0.66875       0          92    0.418881  \n",
       "2      0.66875       1          92    0.418881  \n",
       "3      0.66875       0          92    0.418881  \n",
       "4      0.66875       0          92    0.418881  \n",
       "...        ...     ...         ...         ...  \n",
       "99995  0.80625       0          50    1.462820  \n",
       "99996  0.80625       1          50    1.462820  \n",
       "99997  0.80625       0          50    1.462820  \n",
       "99998  0.80625       0          50    1.462820  \n",
       "99999  0.80625       1          50    1.462820  \n",
       "\n",
       "[100000 rows x 8 columns]"
      ]
     },
     "execution_count": 17,
     "metadata": {},
     "output_type": "execute_result"
    }
   ],
   "source": [
    "movie"
   ]
  },
  {
   "cell_type": "code",
   "execution_count": 20,
   "id": "bf3fb11e",
   "metadata": {},
   "outputs": [
    {
     "data": {
      "text/plain": [
       "Index(['userId', 'title', 'genres', 'tag', 'rating', 'target', 'title_name',\n",
       "       'title_year'],\n",
       "      dtype='object')"
      ]
     },
     "execution_count": 20,
     "metadata": {},
     "output_type": "execute_result"
    }
   ],
   "source": [
    "movie.columns"
   ]
  },
  {
   "cell_type": "code",
   "execution_count": null,
   "id": "cee09c49",
   "metadata": {},
   "outputs": [],
   "source": []
  },
  {
   "cell_type": "code",
   "execution_count": null,
   "id": "38c4f6ec",
   "metadata": {},
   "outputs": [],
   "source": []
  },
  {
   "cell_type": "code",
   "execution_count": null,
   "id": "09345140",
   "metadata": {},
   "outputs": [],
   "source": []
  },
  {
   "cell_type": "code",
   "execution_count": null,
   "id": "b60d0273",
   "metadata": {},
   "outputs": [],
   "source": []
  },
  {
   "cell_type": "code",
   "execution_count": null,
   "id": "bd7bfb96",
   "metadata": {},
   "outputs": [],
   "source": []
  },
  {
   "cell_type": "code",
   "execution_count": null,
   "id": "117c7b97",
   "metadata": {},
   "outputs": [],
   "source": []
  },
  {
   "cell_type": "code",
   "execution_count": null,
   "id": "fa2bfb4b",
   "metadata": {},
   "outputs": [],
   "source": []
  },
  {
   "cell_type": "code",
   "execution_count": null,
   "id": "3a14dd2d",
   "metadata": {},
   "outputs": [],
   "source": []
  }
 ],
 "metadata": {
  "kernelspec": {
   "display_name": "Python 3 (ipykernel)",
   "language": "python",
   "name": "python3"
  },
  "language_info": {
   "codemirror_mode": {
    "name": "ipython",
    "version": 3
   },
   "file_extension": ".py",
   "mimetype": "text/x-python",
   "name": "python",
   "nbconvert_exporter": "python",
   "pygments_lexer": "ipython3",
   "version": "3.10.9"
  }
 },
 "nbformat": 4,
 "nbformat_minor": 5
}
